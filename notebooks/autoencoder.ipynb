{
 "cells": [
  {
   "cell_type": "markdown",
   "metadata": {},
   "source": [
    "# Splunk App for Data Science and Deep Learning - Notebook for Autoencoder with TensorFlow and Keras (version 2.14)"
   ]
  },
  {
   "cell_type": "markdown",
   "metadata": {},
   "source": [
    "## Autoencoder Example\n",
    "This notebook contains an example workflow how to work on custom containerized code that seamlessly interfaces with the Splunk App for Data Science and Deep Learning Toolkit. As an example we use a custom autoencoder built on keras and tensorflow."
   ]
  },
  {
   "cell_type": "markdown",
   "metadata": {},
   "source": [
    "Note: By default every time you save this notebook the cells are exported into a python module which is then invoked by Splunk MLTK commands like <code> | fit ... | apply ... | summary </code>. Please read the Model Development Guide in the Deep Learning Toolkit app for more information."
   ]
  },
  {
   "cell_type": "markdown",
   "metadata": {},
   "source": [
    "## Stage 0 - import libraries\n",
    "At stage 0 we define all imports necessary to run our subsequent code depending on various libraries."
   ]
  },
  {
   "cell_type": "code",
   "execution_count": 1,
   "metadata": {
    "deletable": false,
    "name": "mltkc_import"
   },
   "outputs": [
    {
     "name": "stderr",
     "output_type": "stream",
     "text": [
      "2024-02-01 12:17:06.097540: I tensorflow/core/platform/cpu_feature_guard.cc:182] This TensorFlow binary is optimized to use available CPU instructions in performance-critical operations.\n",
      "To enable the following instructions: AVX2 FMA, in other operations, rebuild TensorFlow with the appropriate compiler flags.\n"
     ]
    }
   ],
   "source": [
    "# mltkc_import\n",
    "# this definition exposes all python module imports that should be available in all subsequent commands\n",
    "import json\n",
    "import datetime\n",
    "import numpy as np\n",
    "import pandas as pd\n",
    "import tensorflow as tf\n",
    "import keras\n",
    "\n",
    "# global constants\n",
    "MODEL_DIRECTORY = \"/srv/app/model/data/\""
   ]
  },
  {
   "cell_type": "code",
   "execution_count": 2,
   "metadata": {},
   "outputs": [
    {
     "name": "stdout",
     "output_type": "stream",
     "text": [
      "numpy version: 1.25.2\n",
      "pandas version: 2.1.1\n",
      "TensorFlow version: 2.14.0\n",
      "Keras version: 2.14.0\n"
     ]
    }
   ],
   "source": [
    "# THIS CELL IS NOT EXPORTED - free notebook cell for testing purposes\n",
    "print(\"numpy version: \" + np.__version__)\n",
    "print(\"pandas version: \" + pd.__version__)\n",
    "print(\"TensorFlow version: \" + tf.__version__)\n",
    "print(\"Keras version: \" + keras.__version__)"
   ]
  },
  {
   "cell_type": "markdown",
   "metadata": {},
   "source": [
    "## Stage 1 - get a data sample from Splunk\n",
    "In Splunk run a search to pipe a prepared dataset into this environment."
   ]
  },
  {
   "cell_type": "markdown",
   "metadata": {},
   "source": [
    "| inputlookup iris.csv <br>| fit MLTKContainer algo=autoencoder mode=stage epochs=100 batch_size=4 components=2 petal_length petal_width sepal_length sepal_width into app:iris_autoencoder"
   ]
  },
  {
   "cell_type": "markdown",
   "metadata": {},
   "source": [
    "After you run this search your data set sample is available as a csv inside the container to develop your model. The name is taken from the into keyword (\"my_model\" in the example above) or set to \"default\" if no into keyword is present. This step is intended to work with a subset of your data to create your custom model."
   ]
  },
  {
   "cell_type": "code",
   "execution_count": 3,
   "metadata": {
    "deletable": false,
    "name": "mltkc_stage"
   },
   "outputs": [],
   "source": [
    "# mltkc_stage\n",
    "# this cell is not executed from MLTK and should only be used for staging data into the notebook environment\n",
    "def stage(name):\n",
    "    with open(\"data/\"+name+\".csv\", 'r') as f:\n",
    "        df = pd.read_csv(f)\n",
    "    with open(\"data/\"+name+\".json\", 'r') as f:\n",
    "        param = json.load(f)\n",
    "    return df, param"
   ]
  },
  {
   "cell_type": "code",
   "execution_count": 4,
   "metadata": {},
   "outputs": [
    {
     "name": "stdout",
     "output_type": "stream",
     "text": [
      "   sepal_length  sepal_width  petal_length  petal_width\n",
      "0           5.1          3.5           1.4          0.2\n",
      "(150, 4)\n",
      "{'options': {'params': {'algo': 'autoencoder', 'mode': 'stage', 'epochs': '100', 'batch_size': '4', 'components': '2'}, 'args': ['petal_length', 'petal_width', 'sepal_length', 'sepal_width'], 'feature_variables': ['petal_length', 'petal_width', 'sepal_length', 'sepal_width'], 'model_name': 'iris_autoencoder', 'algo_name': 'MLTKContainer', 'mlspl_limits': {'disabled': False, 'handle_new_cat': 'default', 'max_distinct_cat_values': '10000', 'max_distinct_cat_values_for_classifiers': '10000', 'max_distinct_cat_values_for_scoring': '10000', 'max_fit_time': '6000', 'max_inputs': '10000000', 'max_memory_usage_mb': '16000', 'max_model_size_mb': '3000', 'max_score_time': '6000', 'use_sampling': '1'}, 'kfold_cv': None}, 'feature_variables': ['petal_length', 'petal_width', 'sepal_length', 'sepal_width']}\n"
     ]
    }
   ],
   "source": [
    "# THIS CELL IS NOT EXPORTED - free notebook cell for testing purposes\n",
    "df, param = stage(\"iris_autoencoder\")\n",
    "print(df[0:1])\n",
    "print(df.shape)\n",
    "print(str(param))"
   ]
  },
  {
   "cell_type": "markdown",
   "metadata": {},
   "source": [
    "## Stage 2 - create and initialize a model"
   ]
  },
  {
   "cell_type": "code",
   "execution_count": 5,
   "metadata": {
    "deletable": false,
    "name": "mltkc_init"
   },
   "outputs": [],
   "source": [
    "# mltkc_init\n",
    "# initialize the model\n",
    "# params: data and parameters\n",
    "# returns the model object which will be used as a reference to call fit, apply and summary subsequently\n",
    "def init(df,param):\n",
    "    X = df[param['feature_variables']]\n",
    "    print(\"FIT build model with input shape \" + str(X.shape))\n",
    "    components = 3\n",
    "    activation_fn = 'relu'\n",
    "    # learning_rate = 0.001\n",
    "    # epsilon=0.00001 # default 1e-07\n",
    "    if 'options' in param:\n",
    "        if 'params' in param['options']:\n",
    "            if 'components' in param['options']['params']:\n",
    "                components = int(param['options']['params']['components'])\n",
    "            if 'activation_func' in param['options']['params']:\n",
    "                activation_fn = param['options']['params']['activation_func']\n",
    "    input_shape = int(X.shape[1])\n",
    "    encoder_layer = keras.layers.Dense(components, input_dim=input_shape, activation=activation_fn, kernel_initializer=keras.initializers.RandomUniform(minval=0, maxval=1, seed=None), bias_initializer=keras.initializers.RandomUniform(minval=0, maxval=1, seed=None))\n",
    "    decoder_layer = keras.layers.Dense(input_shape, activation=activation_fn, kernel_initializer=keras.initializers.RandomUniform(minval=0, maxval=1, seed=None), bias_initializer=keras.initializers.RandomUniform(minval=0, maxval=1, seed=None))\n",
    "    model = keras.Sequential()\n",
    "    model.add(encoder_layer)\n",
    "    model.add(decoder_layer)\n",
    "    #opt = keras.optimizers.Adam(learning_rate=learning_rate, epsilon=epsilon)\n",
    "    model.compile(loss='mean_squared_error', optimizer='adam', metrics=['accuracy'])\n",
    "    return model"
   ]
  },
  {
   "cell_type": "code",
   "execution_count": 6,
   "metadata": {
    "scrolled": true
   },
   "outputs": [
    {
     "name": "stdout",
     "output_type": "stream",
     "text": [
      "FIT build model with input shape (150, 4)\n",
      "Model: \"sequential\"\n",
      "_________________________________________________________________\n",
      " Layer (type)                Output Shape              Param #   \n",
      "=================================================================\n",
      " dense (Dense)               (None, 2)                 10        \n",
      "                                                                 \n",
      " dense_1 (Dense)             (None, 4)                 12        \n",
      "                                                                 \n",
      "=================================================================\n",
      "Total params: 22 (88.00 Byte)\n",
      "Trainable params: 22 (88.00 Byte)\n",
      "Non-trainable params: 0 (0.00 Byte)\n",
      "_________________________________________________________________\n",
      "None\n"
     ]
    }
   ],
   "source": [
    "# test mltkc_stage_create_model\n",
    "model = init(df,param)\n",
    "print(model.summary())"
   ]
  },
  {
   "cell_type": "markdown",
   "metadata": {},
   "source": [
    "## Stage 3 - fit the model"
   ]
  },
  {
   "cell_type": "code",
   "execution_count": 7,
   "metadata": {
    "deletable": false,
    "name": "mltkc_fit"
   },
   "outputs": [],
   "source": [
    "# mltkc_stage_create_model_fit\n",
    "# returns a fit info json object\n",
    "def fit(model,df,param):\n",
    "    returns = {}\n",
    "    X = df[param['feature_variables']]\n",
    "    model_epochs = 100\n",
    "    model_batch_size = 32\n",
    "    if 'options' in param:\n",
    "        if 'params' in param['options']:\n",
    "            if 'epochs' in param['options']['params']:\n",
    "                model_epochs = int(param['options']['params']['epochs'])\n",
    "            if 'batch_size' in param['options']['params']:\n",
    "                model_batch_size = int(param['options']['params']['batch_size'])\n",
    "    # connect model training to tensorboard\n",
    "    log_dir=\"/srv/notebooks/logs/fit/\" + datetime.datetime.now().strftime(\"%Y%m%d-%H%M%S\")\n",
    "    tensorboard_callback = tf.keras.callbacks.TensorBoard(log_dir=log_dir, histogram_freq=1)\n",
    "    # run the training\n",
    "    returns['fit_history'] = model.fit(x=X,\n",
    "                                       y=X, \n",
    "                                       verbose=2, \n",
    "                                       epochs=model_epochs, \n",
    "                                       batch_size=model_batch_size, \n",
    "                                       #validation_data=(X, Y),\n",
    "                                       callbacks=[tensorboard_callback])\n",
    "    # memorize parameters\n",
    "    returns['model_epochs'] = model_epochs\n",
    "    returns['model_batch_size'] = model_batch_size\n",
    "    returns['model_loss_acc'] = model.evaluate(x = X, y = X)\n",
    "    return returns"
   ]
  },
  {
   "cell_type": "code",
   "execution_count": 8,
   "metadata": {
    "collapsed": true,
    "jupyter": {
     "outputs_hidden": true
    }
   },
   "outputs": [
    {
     "name": "stdout",
     "output_type": "stream",
     "text": [
      "Epoch 1/100\n",
      "38/38 - 1s - loss: 16.8177 - accuracy: 0.6867 - 607ms/epoch - 16ms/step\n",
      "Epoch 2/100\n",
      "38/38 - 0s - loss: 10.9632 - accuracy: 0.7533 - 103ms/epoch - 3ms/step\n",
      "Epoch 3/100\n",
      "38/38 - 0s - loss: 7.4068 - accuracy: 0.8667 - 93ms/epoch - 2ms/step\n",
      "Epoch 4/100\n",
      "38/38 - 0s - loss: 5.2700 - accuracy: 1.0000 - 79ms/epoch - 2ms/step\n",
      "Epoch 5/100\n",
      "38/38 - 0s - loss: 3.9022 - accuracy: 1.0000 - 78ms/epoch - 2ms/step\n",
      "Epoch 6/100\n",
      "38/38 - 0s - loss: 3.0000 - accuracy: 1.0000 - 90ms/epoch - 2ms/step\n",
      "Epoch 7/100\n",
      "38/38 - 0s - loss: 2.3720 - accuracy: 1.0000 - 79ms/epoch - 2ms/step\n",
      "Epoch 8/100\n",
      "38/38 - 0s - loss: 1.9257 - accuracy: 1.0000 - 72ms/epoch - 2ms/step\n",
      "Epoch 9/100\n",
      "38/38 - 0s - loss: 1.5959 - accuracy: 1.0000 - 76ms/epoch - 2ms/step\n",
      "Epoch 10/100\n",
      "38/38 - 0s - loss: 1.3484 - accuracy: 1.0000 - 76ms/epoch - 2ms/step\n",
      "Epoch 11/100\n",
      "38/38 - 0s - loss: 1.1566 - accuracy: 1.0000 - 80ms/epoch - 2ms/step\n",
      "Epoch 12/100\n",
      "38/38 - 0s - loss: 1.0096 - accuracy: 1.0000 - 80ms/epoch - 2ms/step\n",
      "Epoch 13/100\n",
      "38/38 - 0s - loss: 0.8891 - accuracy: 1.0000 - 75ms/epoch - 2ms/step\n",
      "Epoch 14/100\n",
      "38/38 - 0s - loss: 0.7954 - accuracy: 1.0000 - 80ms/epoch - 2ms/step\n",
      "Epoch 15/100\n",
      "38/38 - 0s - loss: 0.7203 - accuracy: 1.0000 - 78ms/epoch - 2ms/step\n",
      "Epoch 16/100\n",
      "38/38 - 0s - loss: 0.6602 - accuracy: 1.0000 - 77ms/epoch - 2ms/step\n",
      "Epoch 17/100\n",
      "38/38 - 0s - loss: 0.6111 - accuracy: 1.0000 - 78ms/epoch - 2ms/step\n",
      "Epoch 18/100\n",
      "38/38 - 0s - loss: 0.5712 - accuracy: 1.0000 - 81ms/epoch - 2ms/step\n",
      "Epoch 19/100\n",
      "38/38 - 0s - loss: 0.5390 - accuracy: 1.0000 - 84ms/epoch - 2ms/step\n",
      "Epoch 20/100\n",
      "38/38 - 0s - loss: 0.5125 - accuracy: 1.0000 - 87ms/epoch - 2ms/step\n",
      "Epoch 21/100\n",
      "38/38 - 0s - loss: 0.4913 - accuracy: 1.0000 - 77ms/epoch - 2ms/step\n",
      "Epoch 22/100\n",
      "38/38 - 0s - loss: 0.4731 - accuracy: 1.0000 - 72ms/epoch - 2ms/step\n",
      "Epoch 23/100\n",
      "38/38 - 0s - loss: 0.4579 - accuracy: 1.0000 - 81ms/epoch - 2ms/step\n",
      "Epoch 24/100\n",
      "38/38 - 0s - loss: 0.4452 - accuracy: 1.0000 - 76ms/epoch - 2ms/step\n",
      "Epoch 25/100\n",
      "38/38 - 0s - loss: 0.4334 - accuracy: 1.0000 - 76ms/epoch - 2ms/step\n",
      "Epoch 26/100\n",
      "38/38 - 0s - loss: 0.4229 - accuracy: 1.0000 - 77ms/epoch - 2ms/step\n",
      "Epoch 27/100\n",
      "38/38 - 0s - loss: 0.4136 - accuracy: 1.0000 - 74ms/epoch - 2ms/step\n",
      "Epoch 28/100\n",
      "38/38 - 0s - loss: 0.4053 - accuracy: 1.0000 - 74ms/epoch - 2ms/step\n",
      "Epoch 29/100\n",
      "38/38 - 0s - loss: 0.3973 - accuracy: 1.0000 - 76ms/epoch - 2ms/step\n",
      "Epoch 30/100\n",
      "38/38 - 0s - loss: 0.3896 - accuracy: 1.0000 - 79ms/epoch - 2ms/step\n",
      "Epoch 31/100\n",
      "38/38 - 0s - loss: 0.3817 - accuracy: 1.0000 - 88ms/epoch - 2ms/step\n",
      "Epoch 32/100\n",
      "38/38 - 0s - loss: 0.3749 - accuracy: 1.0000 - 78ms/epoch - 2ms/step\n",
      "Epoch 33/100\n",
      "38/38 - 0s - loss: 0.3679 - accuracy: 1.0000 - 82ms/epoch - 2ms/step\n",
      "Epoch 34/100\n",
      "38/38 - 0s - loss: 0.3611 - accuracy: 1.0000 - 76ms/epoch - 2ms/step\n",
      "Epoch 35/100\n",
      "38/38 - 0s - loss: 0.3545 - accuracy: 1.0000 - 76ms/epoch - 2ms/step\n",
      "Epoch 36/100\n",
      "38/38 - 0s - loss: 0.3475 - accuracy: 1.0000 - 76ms/epoch - 2ms/step\n",
      "Epoch 37/100\n",
      "38/38 - 0s - loss: 0.3412 - accuracy: 1.0000 - 76ms/epoch - 2ms/step\n",
      "Epoch 38/100\n",
      "38/38 - 0s - loss: 0.3346 - accuracy: 1.0000 - 76ms/epoch - 2ms/step\n",
      "Epoch 39/100\n",
      "38/38 - 0s - loss: 0.3284 - accuracy: 1.0000 - 77ms/epoch - 2ms/step\n",
      "Epoch 40/100\n",
      "38/38 - 0s - loss: 0.3216 - accuracy: 1.0000 - 75ms/epoch - 2ms/step\n",
      "Epoch 41/100\n",
      "38/38 - 0s - loss: 0.3156 - accuracy: 1.0000 - 77ms/epoch - 2ms/step\n",
      "Epoch 42/100\n",
      "38/38 - 0s - loss: 0.3092 - accuracy: 1.0000 - 76ms/epoch - 2ms/step\n",
      "Epoch 43/100\n",
      "38/38 - 0s - loss: 0.3033 - accuracy: 1.0000 - 80ms/epoch - 2ms/step\n",
      "Epoch 44/100\n",
      "38/38 - 0s - loss: 0.2969 - accuracy: 1.0000 - 79ms/epoch - 2ms/step\n",
      "Epoch 45/100\n",
      "38/38 - 0s - loss: 0.2907 - accuracy: 1.0000 - 77ms/epoch - 2ms/step\n",
      "Epoch 46/100\n",
      "38/38 - 0s - loss: 0.2847 - accuracy: 1.0000 - 75ms/epoch - 2ms/step\n",
      "Epoch 47/100\n",
      "38/38 - 0s - loss: 0.2790 - accuracy: 1.0000 - 78ms/epoch - 2ms/step\n",
      "Epoch 48/100\n",
      "38/38 - 0s - loss: 0.2729 - accuracy: 1.0000 - 75ms/epoch - 2ms/step\n",
      "Epoch 49/100\n",
      "38/38 - 0s - loss: 0.2673 - accuracy: 1.0000 - 79ms/epoch - 2ms/step\n",
      "Epoch 50/100\n",
      "38/38 - 0s - loss: 0.2619 - accuracy: 1.0000 - 77ms/epoch - 2ms/step\n",
      "Epoch 51/100\n",
      "38/38 - 0s - loss: 0.2555 - accuracy: 1.0000 - 75ms/epoch - 2ms/step\n",
      "Epoch 52/100\n",
      "38/38 - 0s - loss: 0.2501 - accuracy: 1.0000 - 78ms/epoch - 2ms/step\n",
      "Epoch 53/100\n",
      "38/38 - 0s - loss: 0.2447 - accuracy: 1.0000 - 73ms/epoch - 2ms/step\n",
      "Epoch 54/100\n",
      "38/38 - 0s - loss: 0.2392 - accuracy: 1.0000 - 78ms/epoch - 2ms/step\n",
      "Epoch 55/100\n",
      "38/38 - 0s - loss: 0.2337 - accuracy: 1.0000 - 75ms/epoch - 2ms/step\n",
      "Epoch 56/100\n",
      "38/38 - 0s - loss: 0.2280 - accuracy: 1.0000 - 82ms/epoch - 2ms/step\n",
      "Epoch 57/100\n",
      "38/38 - 0s - loss: 0.2237 - accuracy: 1.0000 - 94ms/epoch - 2ms/step\n",
      "Epoch 58/100\n",
      "38/38 - 0s - loss: 0.2181 - accuracy: 1.0000 - 80ms/epoch - 2ms/step\n",
      "Epoch 59/100\n",
      "38/38 - 0s - loss: 0.2124 - accuracy: 1.0000 - 76ms/epoch - 2ms/step\n",
      "Epoch 60/100\n",
      "38/38 - 0s - loss: 0.2074 - accuracy: 1.0000 - 74ms/epoch - 2ms/step\n",
      "Epoch 61/100\n",
      "38/38 - 0s - loss: 0.2021 - accuracy: 1.0000 - 75ms/epoch - 2ms/step\n",
      "Epoch 62/100\n",
      "38/38 - 0s - loss: 0.1974 - accuracy: 1.0000 - 76ms/epoch - 2ms/step\n",
      "Epoch 63/100\n",
      "38/38 - 0s - loss: 0.1925 - accuracy: 1.0000 - 77ms/epoch - 2ms/step\n",
      "Epoch 64/100\n",
      "38/38 - 0s - loss: 0.1877 - accuracy: 1.0000 - 75ms/epoch - 2ms/step\n",
      "Epoch 65/100\n",
      "38/38 - 0s - loss: 0.1833 - accuracy: 1.0000 - 76ms/epoch - 2ms/step\n",
      "Epoch 66/100\n",
      "38/38 - 0s - loss: 0.1783 - accuracy: 1.0000 - 78ms/epoch - 2ms/step\n",
      "Epoch 67/100\n",
      "38/38 - 0s - loss: 0.1740 - accuracy: 1.0000 - 78ms/epoch - 2ms/step\n",
      "Epoch 68/100\n",
      "38/38 - 0s - loss: 0.1697 - accuracy: 1.0000 - 74ms/epoch - 2ms/step\n",
      "Epoch 69/100\n",
      "38/38 - 0s - loss: 0.1647 - accuracy: 1.0000 - 81ms/epoch - 2ms/step\n",
      "Epoch 70/100\n",
      "38/38 - 0s - loss: 0.1611 - accuracy: 1.0000 - 75ms/epoch - 2ms/step\n",
      "Epoch 71/100\n",
      "38/38 - 0s - loss: 0.1558 - accuracy: 1.0000 - 76ms/epoch - 2ms/step\n",
      "Epoch 72/100\n",
      "38/38 - 0s - loss: 0.1522 - accuracy: 1.0000 - 76ms/epoch - 2ms/step\n",
      "Epoch 73/100\n",
      "38/38 - 0s - loss: 0.1482 - accuracy: 1.0000 - 74ms/epoch - 2ms/step\n",
      "Epoch 74/100\n",
      "38/38 - 0s - loss: 0.1439 - accuracy: 1.0000 - 74ms/epoch - 2ms/step\n",
      "Epoch 75/100\n",
      "38/38 - 0s - loss: 0.1397 - accuracy: 1.0000 - 74ms/epoch - 2ms/step\n",
      "Epoch 76/100\n",
      "38/38 - 0s - loss: 0.1361 - accuracy: 1.0000 - 78ms/epoch - 2ms/step\n",
      "Epoch 77/100\n",
      "38/38 - 0s - loss: 0.1322 - accuracy: 1.0000 - 82ms/epoch - 2ms/step\n",
      "Epoch 78/100\n",
      "38/38 - 0s - loss: 0.1283 - accuracy: 1.0000 - 83ms/epoch - 2ms/step\n",
      "Epoch 79/100\n",
      "38/38 - 0s - loss: 0.1246 - accuracy: 1.0000 - 88ms/epoch - 2ms/step\n",
      "Epoch 80/100\n",
      "38/38 - 0s - loss: 0.1214 - accuracy: 1.0000 - 88ms/epoch - 2ms/step\n",
      "Epoch 81/100\n",
      "38/38 - 0s - loss: 0.1178 - accuracy: 1.0000 - 82ms/epoch - 2ms/step\n",
      "Epoch 82/100\n",
      "38/38 - 0s - loss: 0.1148 - accuracy: 1.0000 - 94ms/epoch - 2ms/step\n",
      "Epoch 83/100\n",
      "38/38 - 0s - loss: 0.1109 - accuracy: 1.0000 - 74ms/epoch - 2ms/step\n",
      "Epoch 84/100\n",
      "38/38 - 0s - loss: 0.1080 - accuracy: 1.0000 - 77ms/epoch - 2ms/step\n",
      "Epoch 85/100\n",
      "38/38 - 0s - loss: 0.1048 - accuracy: 1.0000 - 78ms/epoch - 2ms/step\n",
      "Epoch 86/100\n",
      "38/38 - 0s - loss: 0.1015 - accuracy: 1.0000 - 79ms/epoch - 2ms/step\n",
      "Epoch 87/100\n",
      "38/38 - 0s - loss: 0.0989 - accuracy: 1.0000 - 80ms/epoch - 2ms/step\n",
      "Epoch 88/100\n",
      "38/38 - 0s - loss: 0.0962 - accuracy: 1.0000 - 114ms/epoch - 3ms/step\n",
      "Epoch 89/100\n",
      "38/38 - 0s - loss: 0.0930 - accuracy: 1.0000 - 80ms/epoch - 2ms/step\n",
      "Epoch 90/100\n",
      "38/38 - 0s - loss: 0.0903 - accuracy: 1.0000 - 74ms/epoch - 2ms/step\n",
      "Epoch 91/100\n",
      "38/38 - 0s - loss: 0.0882 - accuracy: 1.0000 - 79ms/epoch - 2ms/step\n",
      "Epoch 92/100\n",
      "38/38 - 0s - loss: 0.0852 - accuracy: 1.0000 - 77ms/epoch - 2ms/step\n",
      "Epoch 93/100\n",
      "38/38 - 0s - loss: 0.0824 - accuracy: 1.0000 - 80ms/epoch - 2ms/step\n",
      "Epoch 94/100\n",
      "38/38 - 0s - loss: 0.0802 - accuracy: 1.0000 - 84ms/epoch - 2ms/step\n",
      "Epoch 95/100\n",
      "38/38 - 0s - loss: 0.0782 - accuracy: 1.0000 - 92ms/epoch - 2ms/step\n",
      "Epoch 96/100\n",
      "38/38 - 0s - loss: 0.0757 - accuracy: 1.0000 - 80ms/epoch - 2ms/step\n",
      "Epoch 97/100\n",
      "38/38 - 0s - loss: 0.0734 - accuracy: 1.0000 - 82ms/epoch - 2ms/step\n",
      "Epoch 98/100\n",
      "38/38 - 0s - loss: 0.0718 - accuracy: 1.0000 - 80ms/epoch - 2ms/step\n",
      "Epoch 99/100\n",
      "38/38 - 0s - loss: 0.0695 - accuracy: 1.0000 - 75ms/epoch - 2ms/step\n",
      "Epoch 100/100\n",
      "38/38 - 0s - loss: 0.0676 - accuracy: 1.0000 - 79ms/epoch - 2ms/step\n",
      "5/5 [==============================] - 0s 2ms/step - loss: 0.0662 - accuracy: 1.0000\n",
      "[0.06623899936676025, 1.0]\n"
     ]
    }
   ],
   "source": [
    "returns = fit(model,df,param)\n",
    "print(returns['model_loss_acc'])"
   ]
  },
  {
   "cell_type": "markdown",
   "metadata": {},
   "source": [
    "## Stage 4 - apply the model"
   ]
  },
  {
   "cell_type": "code",
   "execution_count": 9,
   "metadata": {
    "deletable": false,
    "name": "mltkc_apply"
   },
   "outputs": [],
   "source": [
    "# mltkc_stage_create_model_apply\n",
    "def apply(model,df,param):\n",
    "    X = df[param['feature_variables']]\n",
    "    reconstruction = model.predict(x = X)\n",
    "    intermediate_layer_model = keras.Model(inputs=model.input, outputs=model.layers[0].output)\n",
    "    hidden = intermediate_layer_model.predict(x = X)\n",
    "    y_hat = pd.concat([pd.DataFrame(reconstruction).add_prefix(\"reconstruction_\"), pd.DataFrame(hidden).add_prefix(\"hidden_\")], axis=1)\n",
    "    return y_hat"
   ]
  },
  {
   "cell_type": "code",
   "execution_count": 10,
   "metadata": {},
   "outputs": [
    {
     "name": "stdout",
     "output_type": "stream",
     "text": [
      "5/5 [==============================] - 0s 2ms/step\n",
      "5/5 [==============================] - 0s 2ms/step\n",
      "     reconstruction_0  reconstruction_1  reconstruction_2  reconstruction_3  \\\n",
      "0            1.400967          0.146078          5.228847          2.983863   \n",
      "1            1.281866          0.151235          4.887046          2.829308   \n",
      "2            1.302431          0.163738          4.875044          2.821091   \n",
      "3            1.465125          0.260453          4.791732          2.761806   \n",
      "4            1.454677          0.173230          5.226667          2.976737   \n",
      "..                ...               ...               ...               ...   \n",
      "145          5.430978          1.883986          6.653288          3.229619   \n",
      "146          4.946011          1.749302          6.087059          3.006009   \n",
      "147          5.297531          1.851875          6.471234          3.155190   \n",
      "148          5.840867          2.096334          6.609460          3.161872   \n",
      "149          5.221343          1.882612          6.107088          2.984815   \n",
      "\n",
      "     hidden_0  hidden_1  \n",
      "0    5.766279  0.414677  \n",
      "1    5.391070  0.377387  \n",
      "2    5.370946  0.393564  \n",
      "3    5.225650  0.519943  \n",
      "4    5.748589  0.452926  \n",
      "..        ...       ...  \n",
      "145  6.337590  3.066899  \n",
      "146  5.796802  2.801867  \n",
      "147  6.157403  2.997570  \n",
      "148  6.170080  3.362528  \n",
      "149  5.743428  2.993665  \n",
      "\n",
      "[150 rows x 6 columns]\n"
     ]
    }
   ],
   "source": [
    "# test mltkc_stage_create_model_apply\n",
    "y_hat = apply(model,df,param)\n",
    "print(y_hat)"
   ]
  },
  {
   "cell_type": "markdown",
   "metadata": {},
   "source": [
    "## Stage 5 - save the model"
   ]
  },
  {
   "cell_type": "code",
   "execution_count": 11,
   "metadata": {
    "deletable": false,
    "name": "mltkc_save"
   },
   "outputs": [],
   "source": [
    "# save model to name in expected convention \"<algo_name>_<model_name>.h5\"\n",
    "def save(model,name):\n",
    "    # save keras model to hdf5 file\n",
    "    # https://www.tensorflow.org/beta/tutorials/keras/save_and_restore_models\n",
    "    model.save(MODEL_DIRECTORY + name + \".keras\")\n",
    "    return model"
   ]
  },
  {
   "cell_type": "code",
   "execution_count": 12,
   "metadata": {},
   "outputs": [
    {
     "data": {
      "text/plain": [
       "<keras.src.engine.sequential.Sequential at 0x7fc78bca2430>"
      ]
     },
     "execution_count": 12,
     "metadata": {},
     "output_type": "execute_result"
    }
   ],
   "source": [
    "save(model,\"autoencoder_iris_autoencoder\")"
   ]
  },
  {
   "cell_type": "markdown",
   "metadata": {},
   "source": [
    "## Stage 6 - load the model"
   ]
  },
  {
   "cell_type": "code",
   "execution_count": 13,
   "metadata": {
    "deletable": false,
    "name": "mltkc_load"
   },
   "outputs": [],
   "source": [
    "# load model from name in expected convention \"<algo_name>_<model_name>.h5\"\n",
    "def load(name):\n",
    "    model = keras.models.load_model(MODEL_DIRECTORY + name + \".keras\")\n",
    "    return model"
   ]
  },
  {
   "cell_type": "code",
   "execution_count": 14,
   "metadata": {},
   "outputs": [
    {
     "data": {
      "text/plain": [
       "<keras.src.engine.sequential.Sequential at 0x7fc7702b83a0>"
      ]
     },
     "execution_count": 14,
     "metadata": {},
     "output_type": "execute_result"
    }
   ],
   "source": [
    "model2 = load(\"autoencoder_iris_autoencoder\")\n",
    "model2"
   ]
  },
  {
   "cell_type": "markdown",
   "metadata": {},
   "source": [
    "## Stage 7 - provide a summary of the model"
   ]
  },
  {
   "cell_type": "code",
   "execution_count": 15,
   "metadata": {
    "deletable": false,
    "name": "mltkc_summary"
   },
   "outputs": [],
   "source": [
    "# return model summary\n",
    "def summary(model=None):\n",
    "    returns = {\"version\": {\"tensorflow\": tf.__version__, \"keras\": keras.__version__} }\n",
    "    if model is not None:\n",
    "        # Save keras model summary to string:\n",
    "        s = []\n",
    "        model.summary(print_fn=lambda x: s.append(x+'\\n'))\n",
    "        returns[\"summary\"] = ''.join(s)\n",
    "    return returns"
   ]
  },
  {
   "cell_type": "code",
   "execution_count": 16,
   "metadata": {},
   "outputs": [
    {
     "data": {
      "text/plain": [
       "{'version': {'tensorflow': '2.14.0', 'keras': '2.14.0'},\n",
       " 'summary': 'Model: \"sequential\"\\n_________________________________________________________________\\n Layer (type)                Output Shape              Param #   \\n=================================================================\\n dense (Dense)               (None, 2)                 10        \\n                                                                 \\n dense_1 (Dense)             (None, 4)                 12        \\n                                                                 \\n=================================================================\\nTotal params: 22 (88.00 Byte)\\nTrainable params: 22 (88.00 Byte)\\nNon-trainable params: 0 (0.00 Byte)\\n_________________________________________________________________\\n'}"
      ]
     },
     "execution_count": 16,
     "metadata": {},
     "output_type": "execute_result"
    }
   ],
   "source": [
    "summary(model)"
   ]
  },
  {
   "cell_type": "markdown",
   "metadata": {},
   "source": [
    "## End of Stages\n",
    "All subsequent cells are not tagged and can be used for further freeform code"
   ]
  },
  {
   "cell_type": "code",
   "execution_count": null,
   "metadata": {},
   "outputs": [],
   "source": []
  }
 ],
 "metadata": {
  "kernelspec": {
   "display_name": "Python 3 (ipykernel)",
   "language": "python",
   "name": "python3"
  },
  "language_info": {
   "codemirror_mode": {
    "name": "ipython",
    "version": 3
   },
   "file_extension": ".py",
   "mimetype": "text/x-python",
   "name": "python",
   "nbconvert_exporter": "python",
   "pygments_lexer": "ipython3",
   "version": "3.9.13"
  }
 },
 "nbformat": 4,
 "nbformat_minor": 4
}
